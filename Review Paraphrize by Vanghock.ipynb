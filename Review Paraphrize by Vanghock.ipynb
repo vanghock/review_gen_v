{
 "cells": [
  {
   "cell_type": "code",
   "execution_count": null,
   "metadata": {},
   "outputs": [],
   "source": [
    "pip install openai"
   ]
  },
  {
   "cell_type": "code",
   "execution_count": null,
   "metadata": {},
   "outputs": [],
   "source": [
    "pip install random"
   ]
  },
  {
   "cell_type": "code",
   "execution_count": null,
   "metadata": {},
   "outputs": [],
   "source": [
    "pip install pandas"
   ]
  },
  {
   "cell_type": "code",
   "execution_count": null,
   "metadata": {},
   "outputs": [],
   "source": [
    "pip install xlrd"
   ]
  },
  {
   "cell_type": "code",
   "execution_count": null,
   "metadata": {},
   "outputs": [],
   "source": [
    "pip install xlwt"
   ]
  },
  {
   "cell_type": "code",
   "execution_count": null,
   "metadata": {},
   "outputs": [],
   "source": [
    "pip install xlutils"
   ]
  },
  {
   "cell_type": "code",
   "execution_count": null,
   "metadata": {},
   "outputs": [],
   "source": [
    "pip install faker"
   ]
  },
  {
   "cell_type": "code",
   "execution_count": null,
   "metadata": {},
   "outputs": [],
   "source": [
    "!pip install --upgrade faker"
   ]
  },
  {
   "cell_type": "code",
   "execution_count": null,
   "metadata": {},
   "outputs": [],
   "source": [
    "!pip install random"
   ]
  },
  {
   "cell_type": "code",
   "execution_count": null,
   "metadata": {},
   "outputs": [],
   "source": [
    "import openai\n",
    "import pandas as pd\n",
    "import random\n",
    "from openpyxl import Workbook\n",
    "from openpyxl.utils import get_column_letter\n",
    "from faker import Faker\n",
    "from datetime import datetime, timedelta\n",
    "\n",
    "\n",
    "# Set up OpenAI API credentials\n",
    "openai.api_key = \"YOUR_API_KEY\"\n",
    "\n",
    "# Define the keywords to detect\n",
    "keywords = [\"Necklace\", \"Bracelet\", \"Earring\", \"Ring\", \"Gold\", \"Diamond\", \"Personalized\", \"Name\", \"Custom\", \"necklace\", \"bracelet\", \"earring\", \"ring\", \"gold\", \"diamond\", \"personalized\", \"name\"]\n",
    "\n",
    "# Define the emojis for good and bad ratings\n",
    "good_emojis = [\"😍\", \"🤩\", \"👏\", \"👌\", \"👍\", \"🙌\", \"🌟\"]\n",
    "bad_emojis = [\"😞\", \"😕\", \"😟\", \"😒\", \"🙁\", \"💔\"]\n",
    "\n",
    "# Load the input Excel file\n",
    "input_file_path = \"input.xlsx\"\n",
    "df = pd.read_excel(input_file_path)\n",
    "\n",
    "# Initialize a new Excel file for the output\n",
    "output_file_path = \"output.xlsx\"\n",
    "workbook = Workbook()\n",
    "worksheet = workbook.active\n",
    "worksheet.title = \"Sheet1\"\n",
    "worksheet.append([\"text\", \"style\", \"emoji\", \"rating\", \"author\", \"body\", \"created_at\"])\n",
    "\n",
    "# Initialize Faker with 'female' gender\n",
    "fake = Faker('en_US')\n",
    "\n",
    "# Loop through the input data and detect keywords, paraphrase text using ChatGPT, and add a random emoji and name based on the rating\n",
    "for i in range(len(df)):\n",
    "    text = df.iloc[i][\"text\"]\n",
    "    rating = df.iloc[i][\"rating\"]\n",
    "    detected_keywords = [word for word in keywords if word in text]\n",
    "    style = \", \".join(detected_keywords)\n",
    "    if not style:\n",
    "        style = \"None\"\n",
    "    response = openai.Completion.create(\n",
    "        engine=\"text-davinci-002\",\n",
    "        prompt=f\"Paraphrase the following text: {text}\",\n",
    "        temperature=0.7,\n",
    "        max_tokens=1024,\n",
    "        n=1,\n",
    "        stop=None,\n",
    "        timeout=15,\n",
    "    )\n",
    "    body = response.choices[0].text.strip()\n",
    "    \n",
    "    # Add a random emoji and name based on the rating\n",
    "    if rating <= 3:\n",
    "        emoji = random.choice(bad_emojis)\n",
    "        author = fake.first_name_female() + \" \" + fake.last_name_female()\n",
    "\n",
    "    else:\n",
    "        emoji = random.choice(good_emojis)\n",
    "        author = fake.first_name_female() + \" \" + fake.last_name_female()\n",
    "    \n",
    "    # Generate a random past date within the last 30 days\n",
    "    past_date = datetime.now() - timedelta(days=random.randint(1, 30))\n",
    "\n",
    "    # Set the year to the current year\n",
    "    created_at = past_date.replace(year=datetime.now().year).strftime(\"%Y-%m-%d\")\n",
    "\n",
    "    # Write the results to the output Excel file\n",
    "    row = [text, style, emoji, rating, author, body, created_at]\n",
    "    worksheet.append(row)\n",
    "\n",
    "\n",
    "# Save the output Excel file\n",
    "for col_num in range(len(row)):\n",
    "    col_letter = get_column_letter(col_num + 1)\n",
    "    column_dimensions = worksheet.column_dimensions[col_letter]\n",
    "    column_dimensions.width = 20\n",
    "workbook.save(output_file_path)\n"
   ]
  }
 ],
 "metadata": {
  "kernelspec": {
   "display_name": "Python 3",
   "language": "python",
   "name": "python3"
  },
  "language_info": {
   "codemirror_mode": {
    "name": "ipython",
    "version": 3
   },
   "file_extension": ".py",
   "mimetype": "text/x-python",
   "name": "python",
   "nbconvert_exporter": "python",
   "pygments_lexer": "ipython3",
   "version": "3.10.10"
  },
  "orig_nbformat": 4,
  "vscode": {
   "interpreter": {
    "hash": "aa38ca2d4ac5334f8facb9127846041594939b57ea42b4afe5d7eb655aac64f1"
   }
  }
 },
 "nbformat": 4,
 "nbformat_minor": 2
}
